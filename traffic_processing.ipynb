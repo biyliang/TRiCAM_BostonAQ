{
 "cells": [
  {
   "cell_type": "code",
   "execution_count": 1,
   "metadata": {
    "collapsed": true
   },
   "outputs": [],
   "source": [
    "#For reading and manipulating tabular data\n",
    "import numpy as np\n",
    "import pandas as pd\n",
    "\n",
    "#For plotting\n",
    "import matplotlib.pyplot as plt\n",
    "%matplotlib inline\n",
    "\n",
    "#For basic statistical modeling\n",
    "import scipy as sp\n",
    "import sklearn as sk"
   ]
  },
  {
   "cell_type": "code",
   "execution_count": 2,
   "metadata": {
    "collapsed": false,
    "scrolled": false
   },
   "outputs": [],
   "source": [
    "#Read the data into a pandas dataframe\n",
    "exp_highway_ex = pd.read_excel('express_highway_performance_data_2012.xlsx', index_col=None)\n",
    "art_highway_ex = pd.read_excel('arterial_highway_performance_data_2012.xlsx', index_col=None)"
   ]
  },
  {
   "cell_type": "code",
   "execution_count": 5,
   "metadata": {
    "collapsed": false
   },
   "outputs": [],
   "source": [
    "#Convert excel to CSV for easier processing\n",
    "art_highway_ex.to_csv('art_highway.csv', encoding='utf-8')\n",
    "art_highway = pd.read_csv(\"art_highway.csv\", header=None)\n",
    "\n",
    "#The header is spread out between the first three rows\n",
    "#Combines the strings in the first three rows\n",
    "header = art_highway.apply(lambda x: str(x.ix[0]) + ' ' + str(x.ix[1])+ ' ' + str(x.ix[2]))\n",
    "\n",
    "#Remove nans for headers without elements in rows 2 or 3\n",
    "header = header.str.replace(\" nan\", \"\")\n",
    "\n",
    "#Remove the \".#\" appendage to the PM AM data\n",
    "header = header.str.replace(\".[0-9]\", \"\")\n",
    "\n",
    "#remove the first three rows from art highway\n",
    "art_highway = art_highway[3:]\n",
    "\n",
    "#Add in the correct new header\n",
    "art_highway.columns = header"
   ]
  },
  {
   "cell_type": "code",
   "execution_count": 6,
   "metadata": {
    "collapsed": false
   },
   "outputs": [],
   "source": [
    "#Convert excel to CSV for easier processing\n",
    "exp_highway_ex.to_csv('exp_highway.csv', encoding='utf-8')\n",
    "exp_highway = pd.read_csv(\"exp_highway.csv\", header=None)\n",
    "\n",
    "header1 = exp_highway.apply(lambda x: str(x.ix[0]) + ' ' + str(x.ix[1])+ ' ' + str(x.ix[2]))\n",
    "\n",
    "#Remove nans for headers without elements in rows 2 or 3\n",
    "header1 = header1.str.replace(\" nan\", \"\")\n",
    "\n",
    "#Remove the \".#\" appendage to the PM AM data\n",
    "header1 = header1.str.replace(\".[0-9]\", \"\")\n",
    "\n",
    "#remove the first three rows from exp\n",
    "exp_highway = exp_highway[3:]\n",
    "\n",
    "#Add in the correct new header\n",
    "exp_highway.columns = header1"
   ]
  },
  {
   "cell_type": "code",
   "execution_count": 14,
   "metadata": {
    "collapsed": false
   },
   "outputs": [],
   "source": [
    "exp_highway.to_csv(\"exp_highway_f.csv\", encoding='utf-8')\n",
    "art_highway.to_csv(\"art_highway_f.csv\", encoding='utf-8')"
   ]
  },
  {
   "cell_type": "code",
   "execution_count": null,
   "metadata": {
    "collapsed": true
   },
   "outputs": [],
   "source": []
  }
 ],
 "metadata": {
  "anaconda-cloud": {},
  "kernelspec": {
   "display_name": "Python [default]",
   "language": "python",
   "name": "python3"
  },
  "language_info": {
   "codemirror_mode": {
    "name": "ipython",
    "version": 3
   },
   "file_extension": ".py",
   "mimetype": "text/x-python",
   "name": "python",
   "nbconvert_exporter": "python",
   "pygments_lexer": "ipython3",
   "version": "3.5.2"
  }
 },
 "nbformat": 4,
 "nbformat_minor": 1
}
