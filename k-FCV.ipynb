{
 "cells": [
  {
   "cell_type": "code",
   "execution_count": 94,
   "metadata": {
    "collapsed": false
   },
   "outputs": [],
   "source": [
    "import pandas as pd\n",
    "import sys\n",
    "import numpy as np\n",
    "import scipy as sp\n",
    "import matplotlib.pyplot as plt\n",
    "import seaborn as sns\n",
    "import sklearn as sk\n",
    "from sklearn.model_selection import train_test_split\n",
    "from sklearn.linear_model import Ridge\n",
    "from sklearn.linear_model import Lasso\n",
    "from sklearn.preprocessing import PolynomialFeatures\n",
    "from sklearn.linear_model import BayesianRidge\n",
    "from sklearn.linear_model import LinearRegression\n",
    "from sklearn.neighbors import KNeighborsRegressor\n",
    "import statsmodels.api as sm\n",
    "from sklearn.metrics import log_loss\n",
    "sns.set(style=\"ticks\")\n",
    "%matplotlib inline\n",
    "import pickle"
   ]
  },
  {
   "cell_type": "code",
   "execution_count": 3,
   "metadata": {
    "collapsed": true
   },
   "outputs": [],
   "source": [
    "df = pd.read_csv('ucidata.csv', sep=\",\", header=None)\n",
    "#replaces question marks with \"0\"\n",
    "for c in range(0, 127):#takes out features columns\n",
    "x = df.iloc[:, 4:126]\n",
    "\n",
    "#takes of what we want to predict\n",
    "target = df.iloc[:, 127]\n",
    "    for r in range(0, 1994):\n",
    "        if df[c][r] == \"?\":\n",
    "            df.set_value(r, c, 0)\n",
    "            \n",
    "#turns all columns that are numerics encoded as strings into floats\n",
    "for c in range(4, 127):\n",
    "    for r in range(0, 1994):\n",
    "        if type(df[c][r]) == str:\n",
    "            df.set_value(r, c, float(df[c][r]))\n",
    "            \n",
    "# BIC = -2 * loglikelihood + d * log(n), \n",
    "# AIC = 2d + nlog(RSS/n)"
   ]
  },
  {
   "cell_type": "code",
   "execution_count": 101,
   "metadata": {
    "collapsed": false
   },
   "outputs": [],
   "source": [
    "#takes out features columns\n",
    "x = df.iloc[:, 4:126]\n",
    "\n",
    "#takes of what we want to predict\n",
    "target = df.iloc[:, 127]\n",
    "\n",
    "#drops the column specified by index, use inplace=True to replace df\n",
    "#x.drop(x.columns[[0]], axis=1)"
   ]
  },
  {
   "cell_type": "code",
   "execution_count": 97,
   "metadata": {
    "collapsed": false
   },
   "outputs": [],
   "source": [
    "#makes 80-20 split for training and testing data\n",
    "train, test = np.split(df.sample(frac=1), [int(.8*len(df))])\n",
    "\n",
    "train_vars = train.iloc[:, 4:126]\n",
    "train_target = train.iloc[:, 127]\n",
    "#splits training into 5 equal parts\n",
    "t1, t2, t3, t4, t5 = np.split(train_vars.sample(frac=1), 5)\n",
    "tar1, tar2, tar3, tar4, tar5 = np.split(train_target.sample(frac=1), 5)"
   ]
  },
  {
   "cell_type": "code",
   "execution_count": 83,
   "metadata": {
    "collapsed": false
   },
   "outputs": [],
   "source": [
    "'''calculates AIC from model'''\n",
    "def AIC(df, pred_y, actual_y):\n",
    "    #number of total parameters\n",
    "    d = len(df.columns)\n",
    "    #sample size of training set\n",
    "    n = len(df.index)\n",
    "    #residual sum of squares\n",
    "    RSS = sum((pred_y - actual_y)**2)\n",
    "    return 2 * d + n + np.log(RSS/n)\n",
    "\n",
    "'''caluclates BIC from model'''\n",
    "def BIC(df, pred_y, actual_y):\n",
    "    #number of total parameters\n",
    "    d = len(df.columns)\n",
    "    #sample size of training set\n",
    "    n = len(df.index)\n",
    "    #log likelihood using log_loss, probably wrong tbh\n",
    "    #ll = log_loss(pred_y, actual_y)\n",
    "    return -2 * ll + d * log(n)\n"
   ]
  },
  {
   "cell_type": "code",
   "execution_count": 84,
   "metadata": {
    "collapsed": false
   },
   "outputs": [],
   "source": [
    "combined_train_1 = pd.concat([t2, t3, t4, t5])\n",
    "combined_target_1 = pd.concat([tar2, tar3, tar4, tar5])\n",
    "\n",
    "\"\"\"Linear least squares with l2 regularization.\"\"\"\n",
    "ridge_regression = Ridge(alpha=1.0, fit_intercept=True)\n",
    "ridge_regression.fit(combined_train_1, combined_target_1)\n",
    "predicted = ridge_regression.predict(t1)\n",
    "\n",
    "\n",
    "R_sq = ridge_regression.score(t1, tar1)\n",
    "aic = AIC(combined_train_1, predicted, np.array(tar1))\n",
    "#bic = BIC(combined_train_2, predicted, tar1)"
   ]
  },
  {
   "cell_type": "code",
   "execution_count": 91,
   "metadata": {
    "collapsed": false
   },
   "outputs": [],
   "source": [
    "land_use_pkl = open(\"land_use_raster.pkl\", \"rb\")\n",
    "lu = pickle.load(land_use_pkl)"
   ]
  }
 ],
 "metadata": {
  "anaconda-cloud": {},
  "kernelspec": {
   "display_name": "Python [default]",
   "language": "python",
   "name": "python3"
  },
  "language_info": {
   "codemirror_mode": {
    "name": "ipython",
    "version": 3
   },
   "file_extension": ".py",
   "mimetype": "text/x-python",
   "name": "python",
   "nbconvert_exporter": "python",
   "pygments_lexer": "ipython3",
   "version": "3.5.2"
  }
 },
 "nbformat": 4,
 "nbformat_minor": 1
}
