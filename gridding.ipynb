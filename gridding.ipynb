{
 "cells": [
  {
   "cell_type": "code",
   "execution_count": 44,
   "metadata": {
    "collapsed": false,
    "scrolled": true
   },
   "outputs": [],
   "source": [
    "import numpy as np\n",
    "import pandas as pd\n",
    "import datascience\n",
    "from datascience.predicates import are\n",
    "import shapely\n",
    "from shapely.geometry import Polygon\n",
    "from shapely.geometry import LineString"
   ]
  },
  {
   "cell_type": "code",
   "execution_count": 45,
   "metadata": {
    "collapsed": false
   },
   "outputs": [],
   "source": [
    "x = [ -71.20197, -70.96679]\n",
    "y = [42.291441, 42.420578]\n",
    "x_cell = 50\n",
    "y_cell = 50\n",
    "\n",
    "\n",
    "x_min = -71.20197 #x corresponds to longitude\n",
    "x_max = -70.96679\n",
    "y_min = 42.291441 #y corresponds to latitude\n",
    "y_max = 42.420578\n",
    "\n",
    "#Create ticks\n",
    "x_s = np.linspace(x_min, x_max, x_cell + 1)\n",
    "y_s = np.linspace(y_min, y_max, y_cell + 1)\n",
    "\n",
    "#Create grid\n",
    "x_coord, y_coord = np.meshgrid(x_s, y_s)"
   ]
  },
  {
   "cell_type": "code",
   "execution_count": 46,
   "metadata": {
    "collapsed": false,
    "scrolled": true
   },
   "outputs": [],
   "source": [
    "exp = datascience.Table.read_table(\"highwaydata/exp_high_sub.csv\")\n",
    "art = datascience.Table.read_table(\"highwaydata/art_high_sub.csv\")"
   ]
  },
  {
   "cell_type": "code",
   "execution_count": 47,
   "metadata": {
    "collapsed": false
   },
   "outputs": [],
   "source": [
    "'''Function Description: given the x and y coordinates of a grid, turns each grid element into a polygon. I will move from left to right, bottom to top\n",
    "\n",
    "Input: x-coords, y-coords is a list of lists of x and y coordinates for the grid\n",
    "\n",
    "Output: a list of polygons, one for each grid '''\n",
    "\n",
    "def make_polygon(x_coords, y_coords):\n",
    "    polygons = []\n",
    "    for a in range(0, len(x_coords[0])-1, 1):\n",
    "        x = x_coord[0][a:a+2]\n",
    "        #grabs each x-coordinate pair for each grid element\n",
    "        for b in range(0, len(y_coords)-1, 1):\n",
    "            grid = []\n",
    "            #initiate list to store points for each grid element\n",
    "            y = tuple([y[0] for y in y_coords[b:b+2]])\n",
    "            #for each x-coordinate pair, get all corresponding y-coordinates\n",
    "            for j in range(0, len(y)):\n",
    "                grid.append((x[0], y[j]))\n",
    "                grid.append((x[1], y[j]))\n",
    "                #append grid points of polygon into the grid list \n",
    "                g= [grid[0]] + grid[2:4] + [grid[1]]\n",
    "                #reorder for shapely's Polygon function to read\n",
    "            polygon = Polygon(g)\n",
    "            polygons.append(polygon)\n",
    "        #turn grid into shapely polygon and append to polygon list\n",
    "    return(polygons)\n",
    "\n",
    "polygons = make_polygon(x_coord, y_coord)"
   ]
  },
  {
   "cell_type": "code",
   "execution_count": 48,
   "metadata": {
    "collapsed": true
   },
   "outputs": [],
   "source": [
    "#processing for express highways\n",
    "data_beg = []\n",
    "data_end = []\n",
    "\n",
    "begin_lat = exp[\"begin lat\"]\n",
    "begin_long = exp[\"begin long\"]\n",
    "end_lat = exp[\"end lat\"]\n",
    "end_long = exp[\"end long\"]\n",
    "\n",
    "\n",
    "for x in range(0,len(begin_lat)) :\n",
    "    data_beg.append(tuple([begin_long[x], begin_lat[x]]))\n",
    "    data_end.append(tuple([end_long[x], end_lat[x]]))"
   ]
  },
  {
   "cell_type": "code",
   "execution_count": 49,
   "metadata": {
    "collapsed": true
   },
   "outputs": [],
   "source": [
    "#processing for arterial highways\n",
    "data_beg_a = []\n",
    "data_end_a = []\n",
    "\n",
    "begin_lat_a = art[\"begin lat\"]\n",
    "begin_long_a = art[\"begin long\"]\n",
    "end_lat_a = art[\"end lat\"]\n",
    "end_long_a = art[\"end long\"]\n",
    "\n",
    "for x in range(0,len(begin_lat_a)) :\n",
    "    data_beg_a.append(tuple([begin_long_a[x], begin_lat_a[x]]))\n",
    "    data_end_a.append(tuple([end_long_a[x], end_lat_a[x]]))"
   ]
  },
  {
   "cell_type": "code",
   "execution_count": 50,
   "metadata": {
    "collapsed": false
   },
   "outputs": [],
   "source": [
    "\n",
    "'''Function Description: given the start and end points of a line and a polygon, says whether the line goes through that grid\n",
    "\n",
    "Input: start_loc and end_loc are tuples of latitude, longitude. grid is a list of 4 latitude, longitude tuples detailing a rectangular grid\n",
    "\n",
    "Output: Boolean'''\n",
    "\n",
    "def make_lines(begin_lst, end_lst):\n",
    "        return ([LineString([begin_lst[i], end_lst[i]]) for i in np.arange(0, len(begin_lst), 1)])"
   ]
  },
  {
   "cell_type": "code",
   "execution_count": 51,
   "metadata": {
    "collapsed": false
   },
   "outputs": [],
   "source": [
    "'''Function Description: given the start and end points of a line and a full grid, tells how many grid elements the line go through \n",
    "\n",
    "Input: line is a linestring shapely object. grid is a list of latitude, longitude tuples detailing a rectangular grid\n",
    "\n",
    "Output: Boolean'''\n",
    "#given the x-coords and y-coords of our grid, tells how many grid it goes through\n",
    "\n",
    "def how_many(line, poly_list):\n",
    "    grids_thru = 0\n",
    "    for poly in poly_list:\n",
    "        thru = poly.intersects(line)\n",
    "        inside = poly.contains(line)\n",
    "        if thru or inside:\n",
    "            grids_thru += 1\n",
    "    return (grids_thru)"
   ]
  },
  {
   "cell_type": "code",
   "execution_count": 52,
   "metadata": {
    "collapsed": false
   },
   "outputs": [],
   "source": [
    "lines = make_lines(data_beg, data_end)\n",
    "\n",
    "grids_thru = []\n",
    "for i in lines:\n",
    "    grids_thru.append(how_many(i, polygons))\n",
    "    \n",
    "#in final data frame: data_beg, data_end, thru_grids, the four grid points\n",
    "d = {\"begin\": data_beg, \"end\": data_end, \"grids through\": grids_thru}\n",
    "final_exp = pd.DataFrame(data=d)"
   ]
  },
  {
   "cell_type": "code",
   "execution_count": 53,
   "metadata": {
    "collapsed": true
   },
   "outputs": [],
   "source": [
    "lines_a = make_lines(data_beg_a, data_end_a)\n",
    "\n",
    "grids_thru_a = []\n",
    "for i in lines_a:\n",
    "    grids_thru_a.append(how_many(i, polygons))\n",
    "    \n",
    "d_a = {\"begin\": data_beg_a, \"end\": data_end_a, \"grids through\": grids_thru_a}\n",
    "final_art = pd.DataFrame(data=d_a)"
   ]
  },
  {
   "cell_type": "code",
   "execution_count": 40,
   "metadata": {
    "collapsed": true
   },
   "outputs": [],
   "source": [
    "#Scratch code\n",
    "\n",
    "grid = []\n",
    "x = x_coord[0][0:2]\n",
    "y = tuple([y[0] for y in y_coord[0:2]])\n",
    "for j in range(0, len(y)):\n",
    "    grid.append((x[0], y[j]))\n",
    "    grid.append((x[1], y[j]))\n",
    "g= [grid[0]] + grid[2:4] + [grid[1]] \n",
    "polygon = Polygon(g)\n",
    "a = (-71.20197, 41)#(exp[\"begin lat\"][0],  exp[\"begin long\"][0])\n",
    "b = (-71.20197, 43)#(exp[\"end lat\"][0],  exp[\"end long\"][0])\n",
    "line = LineString([a, b])\n",
    "polygon.intersects(line)\n",
    "\n",
    "#Generalizing a url string to be read, adjusting for varying latitudes and longitudes\n",
    "#Plan of attack: take the center of the grid and check at that point\n",
    "#Vertices of the grid:\n",
    "\n",
    "def points_in_box(min_lon, max_lon, min_lat, max_lat):\n",
    "    #Take the center point of this grid box\n",
    "    lon = float((min_lon + max_lon)/2)\n",
    "    lat = float((min_lat + max_lat)/2)\n",
    "\n",
    "    #read page\n",
    "    begin_lat = exp[\"begin lat\"]\n",
    "    begin_long = exp[\"begin long\"]\n",
    "    end_lat = exp[\"end lat\"]\n",
    "    end_long = exp[\"end long\"]\n",
    "    #This list is going to hold tuples that will be the ordered pairs of all the nearby stops\n",
    "    data_beg, data_end = [], []\n",
    "    for x in range(0,len(begin_lat)) :\n",
    "        data_beg.append(tuple([begin_lat[x], begin_long[x]]))\n",
    "        data_end.append(tuple([end_lat[x], end_long[x]]))\n",
    "\n",
    "    #We now have a list of ordered pairs that describe the locations of all the nearby stops\n",
    "    #Next we have to determine if there are stops contained within the parameters of a given grid box\n",
    "    #And, if so, count how many\n",
    "    startsingrid = 0\n",
    "    endsingrid = 0\n",
    "    for y in range(0, len(data_beg)):\n",
    "        if (data_beg[y][0]>= min_lat and data_beg[y][0]<=max_lat) and (data_beg[y][1]>= min_lon and data_beg[y][1]<=max_lon):\n",
    "            startsingrid = 1 + startsingrid\n",
    "        if (data_end[y][0]>= min_lat and data_end[y][0]<=max_lat) and (data_end[y][1]>= min_lon and data_end[y][1]<=max_lon):\n",
    "            endsingrid = 1 + endsingrid\n",
    "\n",
    "    #Only part that will need to be changed depending on our needs: What is printed/ returned at the end\n",
    "    #print(\"Center of Grid: (\" + str(lat) + \", \" + str(lon) + \")\" )\n",
    "    print(\"Start Locations in this gridbox: \"+ str(startsingrid)+ \", End Locations in this gridbox: \"+ str(endsingrid))\n",
    "#end of method"
   ]
  }
 ],
 "metadata": {
  "anaconda-cloud": {},
  "kernelspec": {
   "display_name": "Python [default]",
   "language": "python",
   "name": "python3"
  },
  "language_info": {
   "codemirror_mode": {
    "name": "ipython",
    "version": 3
   },
   "file_extension": ".py",
   "mimetype": "text/x-python",
   "name": "python",
   "nbconvert_exporter": "python",
   "pygments_lexer": "ipython3",
   "version": "3.5.2"
  }
 },
 "nbformat": 4,
 "nbformat_minor": 1
}
