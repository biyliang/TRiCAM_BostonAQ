{
 "cells": [
  {
   "cell_type": "code",
   "execution_count": 32,
   "metadata": {
    "collapsed": true
   },
   "outputs": [],
   "source": [
    "import numpy as np\n",
    "import matplotlib\n",
    "import pandas as pd\n",
    "import matplotlib.pyplot as plt\n",
    "import random\n",
    "from mpl_toolkits.mplot3d import Axes3D\n",
    "from bs4 import BeautifulSoup\n",
    "import urllib\n",
    "%matplotlib inline\n",
    "import datetime as datetime"
   ]
  },
  {
   "cell_type": "code",
   "execution_count": 33,
   "metadata": {
    "collapsed": false
   },
   "outputs": [],
   "source": [
    "#Open page and parse UTML\n",
    "page = urllib.request.urlopen('http://www.massdot.state.ma.us/highway/TrafficTravelResources/TrafficInformationMap/RealTimeTraffic.aspx').read()\n",
    "soup = BeautifulSoup(page, \"lxml\")\n",
    "#Find desired table\n",
    "table = soup.find('table', attrs ={'class':'xmlView'})\n",
    "#grab all table bodies (3 in total)\n",
    "tbodies = table.find_all('tbody')"
   ]
  },
  {
   "cell_type": "code",
   "execution_count": 34,
   "metadata": {
    "collapsed": false
   },
   "outputs": [],
   "source": [
    "#get routes separately, since we only need to get the routes once\n",
    "#Initilize list of routes\n",
    "routes = []\n",
    "\n",
    "for tbody in tbodies:\n",
    "    #for each tbody, find all rows in the body\n",
    "    rows = tbody.find_all('tr')\n",
    "    for row in rows:\n",
    "        entries = row.find_all('td')                \n",
    "        if len(entries) == 3:\n",
    "        #Excludes rows that just consist of \"Rt. #\"\n",
    "            if entries[0].string is not None:\n",
    "                #The first tag gives description of road location\n",
    "                road = entries[0].string\n",
    "                routes.append(road)"
   ]
  },
  {
   "cell_type": "code",
   "execution_count": 35,
   "metadata": {
    "collapsed": false
   },
   "outputs": [],
   "source": [
    "#Initilize list of traffic speed and travel time\n",
    "speed = []\n",
    "travel = []\n",
    "\n",
    "def grab_data(speed_ls, travel_ls):\n",
    "    for tbody in tbodies:\n",
    "        #for each tbody, find all rows in the body\n",
    "        rows = tbody.find_all('tr')\n",
    "\n",
    "        for row in rows:\n",
    "            entries = row.find_all('td')\n",
    "            if len(entries) == 3:\n",
    "            #Excludes rows that just consist of \"Rt. #\"\n",
    "                if entries[1].string is not None:\n",
    "                     #The second tag gives description of travel time\n",
    "                    time = entries[1].string\n",
    "                    travel_ls.append(time)  \n",
    "                else:\n",
    "                    #adds NA for blank travel times\n",
    "                    travel_ls.append(\"NA\")\n",
    "                if entries[2].string is not None:\n",
    "                    #The third tag gives description of traffic speed\n",
    "                    s = entries[2].string\n",
    "                    speed_ls.append(s)\n",
    "grab_data(speed, travel)"
   ]
  },
  {
   "cell_type": "code",
   "execution_count": 36,
   "metadata": {
    "collapsed": true
   },
   "outputs": [],
   "source": [
    "def scrape(date):\n",
    "    #Open page and parse UTML\n",
    "    page = urllib.request.urlopen('http://www.massdot.state.ma.us/highway/TrafficTravelResources/TrafficInformationMap/RealTimeTraffic.aspx').read()\n",
    "    soup = BeautifulSoup(page, \"lxml\")\n",
    "    #Find desired table\n",
    "    table = soup.find('table', attrs ={'class':'xmlView'})\n",
    "    #grab all table bodies (3 in total)\n",
    "    tbodies = table.find_all('tbody')\n",
    "    \n",
    "    speed = []\n",
    "    travel = []\n",
    "    grab_data(speed, travel)\n",
    "    \n",
    "    d = {\"Travel Time at \"+date: travel,\n",
    "     \"Speed at \" + date: speed}\n",
    "    scraped_df = pd.DataFrame(data=d)\n",
    "    return scraped_df"
   ]
  },
  {
   "cell_type": "code",
   "execution_count": null,
   "metadata": {
    "collapsed": true
   },
   "outputs": [],
   "source": [
    "#create starting data frame\n",
    "d = {\"Routes\":routes,\n",
    "     \"Travel Time at \"+ datetime.datetime.now().strftime(\"%d-%m-%y %H:%M\"): travel,\n",
    "     \"Speed at \" + datetime.datetime.now().strftime(\"%d-%m-%y %H:%M\"): speed}\n",
    "df = pd.DataFrame(data=d)\n",
    "\n",
    "#testing my scripting code\n",
    "\n",
    "days_passed = 0\n",
    "end_day = 2\n",
    "time_not_expired = True\n",
    "i = 0\n",
    "\n",
    "initial = int(datetime.datetime.now().strftime(\"%M\"))\n",
    "initial_day = int(datetime.datetime.now().strftime(\"%M\"))\n",
    "prev_min = initial\n",
    "\n",
    "#picks out minute part of the datetime element\n",
    "while time_not_expired:\n",
    "    current = int(datetime.datetime.now().strftime(\"%M\"))\n",
    "    if i%200000 == 0:\n",
    "        print (current)\n",
    "    current_day = int(datetime.datetime.now().strftime(\"%M\"))\n",
    "    #picks out minute part of the datetime element\n",
    "    if prev_min != current:\n",
    "        #scrape when a minute has passed\n",
    "        print (datetime.datetime.now().strftime(\"%d-%m-%y %H:\")+str(current))\n",
    "        new_df = scrape(datetime.datetime.now().strftime(\"%d-%m-%y %H:\")+str(current))\n",
    "        df = df.join(new_df)\n",
    "        prev_min = current\n",
    "    if current_day == (initial_day + 2):\n",
    "        df.to_csv(\"traffic on \"+ str(initial_day) + \".csv\", encoding='utf-8')\n",
    "        days_passed += 1\n",
    "        initial_day = current_day\n",
    "    time_not_expired = (days_passed != end_day)\n",
    "    i += 1\n",
    "print('done')"
   ]
  },
  {
   "cell_type": "markdown",
   "metadata": {},
   "source": [
    "#code for hourly scripting for a week\n",
    "#do not run!! Converted to markdown to prevent running\n",
    "\n",
    "initial_hr = int(datetime.datetime.now().strftime(\"%H\"))\n",
    "#picks out hour part of the datetime element\n",
    "initial_day = int(datetime.datetime.now().strftime(\"%d\"))\n",
    "#saves start date\n",
    "\n",
    "end_day = 7\n",
    "#run for 7 days\n",
    "days_passed = 0\n",
    "#tracks days passed\n",
    "time_not_expired = True\n",
    "\n",
    "hr = initial_hr\n",
    "while time_not_expired:\n",
    "    current_hr = int(datetime.datetime.now().strftime(\"%H\"))\n",
    "    current_day = int(datetime.datetime.now().strftime(\"%d\"))\n",
    "    #picks out minute part of the datetime element\n",
    "    if hr != current_hr:\n",
    "        #scrape when an hour has passed\n",
    "        new_df = scrape()\n",
    "        print (datetime.datetime.now().strftime(\"%d-%m-%y %H:%M\"))\n",
    "        df = df.join(new_df)\n",
    "    hr = current_hr\n",
    "    if current_day == (initial_day + 1):\n",
    "        df.to_csv(\"traffic for \"+ str(initial_day) +\".csv\", encoding='utf-8')\n",
    "        #write df as a csv for each day\n",
    "        days_passed += 1\n",
    "        initial_day = current_day\n",
    "        #update days passed\n",
    "    time_not_expired =  (days_passed != end_day)\n",
    "\n",
    "    \n",
    "print('done')"
   ]
  },
  {
   "cell_type": "code",
   "execution_count": null,
   "metadata": {
    "collapsed": true
   },
   "outputs": [],
   "source": []
  }
 ],
 "metadata": {
  "anaconda-cloud": {},
  "kernelspec": {
   "display_name": "Python [default]",
   "language": "python",
   "name": "python3"
  },
  "language_info": {
   "codemirror_mode": {
    "name": "ipython",
    "version": 3
   },
   "file_extension": ".py",
   "mimetype": "text/x-python",
   "name": "python",
   "nbconvert_exporter": "python",
   "pygments_lexer": "ipython3",
   "version": "3.5.2"
  }
 },
 "nbformat": 4,
 "nbformat_minor": 1
}
